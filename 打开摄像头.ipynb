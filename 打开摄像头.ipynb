{
 "cells": [
  {
   "cell_type": "code",
   "execution_count": 8,
   "metadata": {},
   "outputs": [],
   "source": [
    "import cv2\n",
    "\n",
    "#设置窗体大小\n",
    "cv2.namedWindow('new', cv2.WINDOW_NORMAL)\n",
    "cv2.resizeWindow('new', 640,480)\n",
    "\n",
    "# 打开摄像头\n",
    "cap = cv2.VideoCapture(0)\n",
    "# 创建人脸分类器\n",
    "face_detector = cv2.CascadeClassifier(r'C:\\Python\\Lib\\site-packages\\cv2\\data\\haarcascade_frontalface_alt.xml')\n",
    "\n",
    "while True:\n",
    "    # 获取摄像头捕捉到一帧画面\n",
    "    res,frame = cap.read()\n",
    "\n",
    "    try:\n",
    "        # 对画面进行灰度处理\n",
    "        gray = cv2.cvtColor(frame, code=cv2.COLOR_BGR2GRAY)\n",
    "        # 获取人脸\n",
    "        faces = face_detector.detectMultiScale(gray)\n",
    "\n",
    "        # 获取人脸坐标\n",
    "        for face_x, face_y, face_w, face_h in faces:\n",
    "            # 将人脸圈中\n",
    "            cv2.circle(frame, center=(face_x + face_w // 2, face_y + face_h // 2), radius= face_w // 2, color=[0, 0, 255], thickness=2)\n",
    "\n",
    "        # 将画面显示在图像窗体上\n",
    "        cv2.imshow('new', frame)\n",
    "\n",
    "    except:\n",
    "\n",
    "        pass\n",
    "\n",
    "    key = cv2.waitKey(1)\n",
    "\n",
    "    if key == ord('q'):\n",
    "        break\n",
    "\n",
    "# 释放资源\n",
    "cap.release()\n",
    "cv2.destroyAllWindows()\n",
    "\n"
   ]
  },
  {
   "cell_type": "code",
   "execution_count": 2,
   "metadata": {},
   "outputs": [],
   "source": [
    "import cv2"
   ]
  }
 ],
 "metadata": {
  "kernelspec": {
   "display_name": "Python 3",
   "language": "python",
   "name": "python3"
  },
  "language_info": {
   "codemirror_mode": {
    "name": "ipython",
    "version": 3
   },
   "file_extension": ".py",
   "mimetype": "text/x-python",
   "name": "python",
   "nbconvert_exporter": "python",
   "pygments_lexer": "ipython3",
   "version": "3.10.7"
  },
  "orig_nbformat": 4
 },
 "nbformat": 4,
 "nbformat_minor": 2
}
